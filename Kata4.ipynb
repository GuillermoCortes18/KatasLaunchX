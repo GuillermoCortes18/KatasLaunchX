{
 "cells": [
  {
   "cell_type": "markdown",
   "metadata": {},
   "source": [
    "## Problema No.1"
   ]
  },
  {
   "cell_type": "code",
   "execution_count": 25,
   "metadata": {},
   "outputs": [
    {
     "name": "stdout",
     "output_type": "stream",
     "text": [
      "\n",
      "\n",
      "On average, the Moon moves 4cm away from the Earth every year\n",
      " The highest daylight temperature of the Moon is 127 C\n",
      "\n",
      "\n",
      "On average, the Moon moves 4cm away from the Earth every year\n",
      " The highest daylight temperature of the Moon is 127 Celsius\n"
     ]
    }
   ],
   "source": [
    "LunaTexto=\"\"\"Interesting facts about the Moon. The Moon is Earth's only satellite.There are several interesting facts about the Moon and how it affects life here on Earth.\\n\n",
    "On average, the Moon moves 4cm away from the Earth every year. This yearly drift is not significant enough to cause immediate effects on Earth. The highest daylight temperature of the Moon is 127 C.\"\"\"\n",
    "\n",
    "text_parts = LunaTexto.split('.')\n",
    "text_parts\n",
    "\n",
    "PalabrasClave = [\"average\", \"temperature\", \"distance\"]\n",
    "\n",
    "for sentence in text_parts:\n",
    "    for PalabraClave in PalabrasClave:\n",
    "        if PalabraClave in sentence:\n",
    "            print(sentence)\n",
    "            break\n",
    "\n",
    "for sentence in text_parts:\n",
    "    for PalabraClave in PalabrasClave:\n",
    "        if PalabraClave in sentence:\n",
    "            print(sentence.replace('C','Celsius'))\n",
    "            break"
   ]
  },
  {
   "cell_type": "markdown",
   "metadata": {},
   "source": [
    "## Problema No.2"
   ]
  },
  {
   "cell_type": "code",
   "execution_count": 26,
   "metadata": {},
   "outputs": [
    {
     "name": "stdout",
     "output_type": "stream",
     "text": [
      "-------------------------------------------------- \n",
      "Nombre del planeta: Marte  \n",
      "Gravedad en Ganimedes: 1.4300000000000002 m/s2 \n",
      "\n",
      "-------------------------------------------------- \n",
      "Nombre del planeta: Marte  \n",
      "Gravedad en Ganimedes: 1.4300000000000002 m/s2 \n",
      "\n",
      "\n",
      "Datos de Gravedad sobre:Ganimedes\n",
      "--------------------------------------------------\n",
      "Nombre del planeta: Marte \n",
      "Gravedad en Ganimedes: 0.00143 m/s2 \n",
      "\n",
      "Datos de Gravedad sobre:Ganimedes\n",
      "--------------------------------------------------\n",
      "Nombre del planeta: Marte \n",
      "Gravedad en Ganimedes: 1.4300000000000002 m/s2 \n"
     ]
    }
   ],
   "source": [
    "\n",
    "planeta = 'Marte '\n",
    "gravedad  = 0.00143\n",
    "nombre = 'Ganimedes'\n",
    "title = f'datos de gravedad sobre {nombre}'\n",
    "\n",
    "hechos = f\"\"\"{'-'*50} \n",
    "Nombre del planeta: {planeta} \n",
    "Gravedad en {nombre}: {gravedad * 1000} m/s2 \n",
    "\"\"\"\n",
    "template = f\"\"\"{title.title()} \n",
    "{hechos}\"\"\" \n",
    "\n",
    "print(hechos)\n",
    "\n",
    "planeta = 'Marte '\n",
    "gravedad  = 0.00143\n",
    "nombre = 'Ganimedes'\n",
    "\n",
    "print(hechos)\n",
    "new_template = \"\"\"\n",
    "Datos de Gravedad sobre:{nombre}\n",
    "--------------------------------------------------\n",
    "Nombre del planeta: {planeta}\n",
    "Gravedad en {nombre}: {gravedad} m/s2 \"\"\"\n",
    "\n",
    "print(new_template.format(nombre=nombre, planeta=planeta, gravedad=gravedad))\n",
    "\n",
    "print(new_template.format(nombre=nombre, planeta=planeta, gravedad=gravedad*1000))"
   ]
  }
 ],
 "metadata": {
  "interpreter": {
   "hash": "71be35f8d79f35bc1a881f710317339f5e9a4227b7ef3f2c82c2ce889b28139c"
  },
  "kernelspec": {
   "display_name": "Python 3.10.2 64-bit",
   "language": "python",
   "name": "python3"
  },
  "language_info": {
   "codemirror_mode": {
    "name": "ipython",
    "version": 3
   },
   "file_extension": ".py",
   "mimetype": "text/x-python",
   "name": "python",
   "nbconvert_exporter": "python",
   "pygments_lexer": "ipython3",
   "version": "3.10.2"
  },
  "orig_nbformat": 4
 },
 "nbformat": 4,
 "nbformat_minor": 2
}
