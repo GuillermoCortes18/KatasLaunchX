{
 "cells": [
  {
   "cell_type": "markdown",
   "metadata": {},
   "source": [
    "## Problema No. 1"
   ]
  },
  {
   "cell_type": "code",
   "execution_count": 3,
   "metadata": {},
   "outputs": [
    {
     "name": "stdout",
     "output_type": "stream",
     "text": [
      "Alerta Asteroide\n"
     ]
    }
   ],
   "source": [
    "asteroide = 80\n",
    "if asteroide > 70:\n",
    "    print(\"Alerta Asteroide\")\n",
    "else:\n",
    "    print(\"Sigue con tu día\")"
   ]
  },
  {
   "cell_type": "markdown",
   "metadata": {},
   "source": [
    "## Problema No. 2"
   ]
  },
  {
   "cell_type": "code",
   "execution_count": 4,
   "metadata": {},
   "outputs": [
    {
     "name": "stdout",
     "output_type": "stream",
     "text": [
      "Luz en Cielo\n"
     ]
    }
   ],
   "source": [
    "asteroide = 20\n",
    "if asteroide > 40:\n",
    "    print(\"Luz En Cielo\")\n",
    "elif asteroide == 20:\n",
    "    print(\"Luz en Cielo\")\n",
    "else:\n",
    "    print(\"No hay Luces en cielo\")"
   ]
  },
  {
   "cell_type": "markdown",
   "metadata": {},
   "source": [
    "## Problema No.3"
   ]
  },
  {
   "cell_type": "code",
   "execution_count": 8,
   "metadata": {},
   "outputs": [
    {
     "name": "stdout",
     "output_type": "stream",
     "text": [
      "Alerta Asteroide\n"
     ]
    }
   ],
   "source": [
    "velocidad_asteroide = 32\n",
    "tamano_asteroide = 35\n",
    "if velocidad_asteroide > 30 and tamano_asteroide > 30:\n",
    "    print(\"Alerta Asteroide\")\n",
    "elif velocidad_asteroide >= 30:\n",
    "    print(\"Luz en Cielo\")\n",
    "elif tamano_asteroide < 25:\n",
    "    print(\"No hay Luces en cielo\")\n",
    "else:\n",
    "    print(\"No hay Luces en cielo\")"
   ]
  }
 ],
 "metadata": {
  "interpreter": {
   "hash": "71be35f8d79f35bc1a881f710317339f5e9a4227b7ef3f2c82c2ce889b28139c"
  },
  "kernelspec": {
   "display_name": "Python 3.10.2 64-bit",
   "language": "python",
   "name": "python3"
  },
  "language_info": {
   "codemirror_mode": {
    "name": "ipython",
    "version": 3
   },
   "file_extension": ".py",
   "mimetype": "text/x-python",
   "name": "python",
   "nbconvert_exporter": "python",
   "pygments_lexer": "ipython3",
   "version": "3.10.2"
  },
  "orig_nbformat": 4
 },
 "nbformat": 4,
 "nbformat_minor": 2
}
