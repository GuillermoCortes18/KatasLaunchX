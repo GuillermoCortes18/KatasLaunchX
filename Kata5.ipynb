{
 "cells": [
  {
   "cell_type": "markdown",
   "metadata": {},
   "source": [
    "## Problema No.1"
   ]
  },
  {
   "cell_type": "code",
   "execution_count": 63,
   "metadata": {},
   "outputs": [
    {
     "name": "stdout",
     "output_type": "stream",
     "text": [
      "628949330\n",
      "390577534\n"
     ]
    }
   ],
   "source": [
    "DistanciaTierra=149597870\n",
    "DistanciaJupiter=778547200\n",
    "DistanciaPlanetas= DistanciaTierra-DistanciaJupiter\n",
    "DistanciaMillas= DistanciaPlanetas * 0.621\n",
    "print (abs(DistanciaPlanetas))\n",
    "\n",
    "print (round(abs(DistanciaMillas)))"
   ]
  },
  {
   "cell_type": "markdown",
   "metadata": {},
   "source": [
    "## Problema No.2"
   ]
  },
  {
   "cell_type": "code",
   "execution_count": 62,
   "metadata": {},
   "outputs": [
    {
     "name": "stdout",
     "output_type": "stream",
     "text": [
      "3061600000\n",
      "1901253600\n"
     ]
    }
   ],
   "source": [
    "PrimerPlaneta = input('Introduzca la distancia del primer planeta en kilometros')\n",
    "SegundoPlaneta = input('Introduzca la distancia del Segundo planeta en kilometros')\n",
    "PrimerPlaneta = int(PrimerPlaneta)\n",
    "SegundoPlaneta = int(SegundoPlaneta)\n",
    "DistanciaKilometros = PrimerPlaneta - SegundoPlaneta\n",
    "print(abs(DistanciaKilometros))\n",
    "\n",
    "DistanciaMillas = DistanciaKilometros * 0.621\n",
    "print(abs(round(DistanciaMillas)))"
   ]
  }
 ],
 "metadata": {
  "interpreter": {
   "hash": "71be35f8d79f35bc1a881f710317339f5e9a4227b7ef3f2c82c2ce889b28139c"
  },
  "kernelspec": {
   "display_name": "Python 3.10.2 64-bit",
   "language": "python",
   "name": "python3"
  },
  "language_info": {
   "codemirror_mode": {
    "name": "ipython",
    "version": 3
   },
   "file_extension": ".py",
   "mimetype": "text/x-python",
   "name": "python",
   "nbconvert_exporter": "python",
   "pygments_lexer": "ipython3",
   "version": "3.10.2"
  },
  "orig_nbformat": 4
 },
 "nbformat": 4,
 "nbformat_minor": 2
}
